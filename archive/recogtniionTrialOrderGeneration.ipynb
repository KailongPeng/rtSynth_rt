{
 "cells": [
  {
   "cell_type": "code",
   "execution_count": 30,
   "metadata": {
    "scrolled": true
   },
   "outputs": [
    {
     "name": "stdout",
     "output_type": "stream",
     "text": [
      "SOA_List=[8, 4, 8, 6, 8, 4, 4, 4, 8, 8, 4, 6, 4, 4, 6, 6, 6, 6, 4, 6, 4, 6, 6, 6, 6, 6, 6, 6, 4, 4, 6, 6, 4, 4, 4, 4, 6, 8, 6, 4, 8, 8, 8, 6, 4, 4, 8, 4]\n",
      "number of 4s=19\n",
      "number of 6s=19\n",
      "number of 8s=10\n",
      "total time=270 s\n",
      "21\n"
     ]
    },
    {
     "data": {
      "image/png": "[encoded data removed]",
      "text/plain": [
       "<Figure size 432x288 with 1 Axes>"
      ]
     },
     "metadata": {
      "needs_background": "light"
     },
     "output_type": "display_data"
    }
   ],
   "source": [
    "\n",
    "import numpy as np\n",
    "import random\n",
    "import matplotlib.pyplot as plt\n",
    "TR=2\n",
    "SOA_List=[2*TR]*19+[3*TR]*19+[4*TR]*10\n",
    "random.shuffle(SOA_List)\n",
    "print(f\"SOA_List={SOA_List}\")\n",
    "plt.figure()\n",
    "plt.plot(SOA_List)\n",
    "print(f\"number of 4s={sum((np.asarray(SOA_List)==4)*1)}\")\n",
    "print(f\"number of 6s={sum((np.asarray(SOA_List)==6)*1)}\")\n",
    "print(f\"number of 8s={sum((np.asarray(SOA_List)==8)*1)}\")\n",
    "print(f\"total time={np.sum(SOA_List)} s\")\n",
    "print(np.sum(1*(np.diff(SOA_List)==0)))\n",
    "# if np.sum(1*(np.diff(SOA_List)==0))<=0:\n",
    "#     break"
   ]
  },
  {
   "cell_type": "code",
   "execution_count": 37,
   "metadata": {
    "scrolled": true
   },
   "outputs": [
    {
     "name": "stderr",
     "output_type": "stream",
     "text": [
      "\r",
      "  0%|          | 0/50 [00:00<?, ?it/s]"
     ]
    },
    {
     "name": "stdout",
     "output_type": "stream",
     "text": [
      "SOA_List=[8, 6, 4, 6, 6, 4, 4, 4, 8, 6, 4, 6, 4, 8, 6, 6, 4, 4, 6, 6, 6, 8, 8, 6, 6, 6, 4, 4, 6, 4, 6, 4, 6, 4, 4, 8, 6, 8, 6, 8, 4, 6, 4, 8, 8, 4, 4, 4]\n",
      "number of 4s=19\n",
      "number of 6s=19\n",
      "number of 8s=10\n",
      "total time=270 s\n"
     ]
    },
    {
     "name": "stderr",
     "output_type": "stream",
     "text": [
      "\r",
      "  2%|▏         | 1/50 [00:00<00:24,  1.97it/s]"
     ]
    },
    {
     "name": "stdout",
     "output_type": "stream",
     "text": [
      "SOA_List=[8, 4, 4, 8, 4, 8, 6, 6, 8, 4, 6, 6, 4, 4, 6, 8, 6, 6, 4, 6, 6, 6, 6, 8, 4, 6, 6, 6, 4, 8, 8, 6, 6, 4, 4, 4, 4, 4, 8, 6, 4, 4, 8, 4, 6, 4, 4, 6]\n",
      "number of 4s=19\n",
      "number of 6s=19\n",
      "number of 8s=10\n",
      "total time=270 s\n"
     ]
    },
    {
     "name": "stderr",
     "output_type": "stream",
     "text": [
      "\r",
      "  4%|▍         | 2/50 [00:01<00:24,  1.95it/s]"
     ]
    },
    {
     "name": "stdout",
     "output_type": "stream",
     "text": [
      "SOA_List=[6, 4, 4, 4, 8, 6, 4, 6, 6, 4, 6, 4, 6, 8, 8, 6, 6, 4, 6, 4, 8, 4, 8, 4, 6, 4, 4, 4, 6, 8, 4, 6, 8, 6, 4, 8, 4, 4, 4, 4, 6, 6, 8, 6, 6, 6, 6, 8]\n",
      "number of 4s=19\n",
      "number of 6s=19\n",
      "number of 8s=10\n",
      "total time=270 s\n"
     ]
    },
    {
     "name": "stderr",
     "output_type": "stream",
     "text": [
      "\r",
      "  6%|▌         | 3/50 [00:01<00:24,  1.96it/s]"
     ]
    },
    {
     "name": "stdout",
     "output_type": "stream",
     "text": [
      "SOA_List=[4, 6, 8, 4, 6, 8, 6, 6, 4, 6, 6, 4, 6, 4, 6, 6, 8, 4, 8, 4, 4, 4, 8, 4, 6, 4, 6, 4, 4, 6, 4, 4, 6, 8, 6, 6, 8, 4, 4, 6, 8, 8, 6, 4, 4, 6, 8, 6]\n",
      "number of 4s=19\n",
      "number of 6s=19\n",
      "number of 8s=10\n",
      "total time=270 s\n"
     ]
    },
    {
     "name": "stderr",
     "output_type": "stream",
     "text": [
      "\r",
      "  8%|▊         | 4/50 [00:01<00:22,  2.06it/s]"
     ]
    },
    {
     "name": "stdout",
     "output_type": "stream",
     "text": [
      "SOA_List=[4, 4, 8, 8, 6, 4, 4, 4, 6, 4, 4, 6, 6, 4, 4, 6, 8, 6, 4, 6, 6, 8, 8, 8, 6, 6, 8, 6, 4, 6, 4, 6, 4, 4, 6, 6, 4, 8, 6, 8, 4, 4, 4, 6, 8, 4, 6, 6]\n",
      "number of 4s=19\n",
      "number of 6s=19\n",
      "number of 8s=10\n",
      "total time=270 s\n"
     ]
    },
    {
     "name": "stderr",
     "output_type": "stream",
     "text": [
      "\r",
      " 10%|█         | 5/50 [00:02<00:20,  2.15it/s]"
     ]
    },
    {
     "name": "stdout",
     "output_type": "stream",
     "text": [
      "SOA_List=[4, 6, 8, 8, 4, 4, 8, 4, 4, 4, 4, 8, 6, 4, 4, 6, 6, 6, 6, 4, 8, 6, 8, 6, 4, 4, 6, 6, 8, 4, 6, 6, 6, 8, 4, 6, 6, 6, 8, 4, 6, 4, 8, 6, 6, 4, 4, 4]\n",
      "number of 4s=19\n",
      "number of 6s=19\n",
      "number of 8s=10\n",
      "total time=270 s\n"
     ]
    },
    {
     "name": "stderr",
     "output_type": "stream",
     "text": [
      "\r",
      " 12%|█▏        | 6/50 [00:02<00:21,  2.09it/s]"
     ]
    },
    {
     "name": "stdout",
     "output_type": "stream",
     "text": [
      "SOA_List=[4, 6, 8, 4, 6, 4, 6, 4, 4, 6, 6, 4, 4, 6, 8, 8, 8, 4, 8, 6, 6, 8, 6, 8, 6, 4, 4, 6, 6, 4, 4, 6, 6, 8, 4, 4, 4, 4, 6, 6, 4, 6, 6, 6, 8, 8, 4, 4]\n",
      "number of 4s=19\n",
      "number of 6s=19\n",
      "number of 8s=10\n",
      "total time=270 s\n"
     ]
    },
    {
     "name": "stderr",
     "output_type": "stream",
     "text": [
      "\r",
      " 14%|█▍        | 7/50 [00:03<00:20,  2.10it/s]"
     ]
    },
    {
     "name": "stdout",
     "output_type": "stream",
     "text": [
      "SOA_List=[4, 4, 4, 8, 4, 6, 8, 8, 6, 6, 4, 4, 4, 4, 4, 4, 6, 4, 6, 6, 6, 8, 8, 4, 8, 6, 6, 8, 4, 4, 6, 6, 8, 6, 6, 4, 4, 6, 4, 4, 6, 8, 6, 6, 6, 8, 4, 6]\n",
      "number of 4s=19\n",
      "number of 6s=19\n",
      "number of 8s=10\n",
      "total time=270 s\n"
     ]
    },
    {
     "name": "stderr",
     "output_type": "stream",
     "text": [
      "\r",
      " 16%|█▌        | 8/50 [00:03<00:19,  2.14it/s]"
     ]
    },
    {
     "name": "stdout",
     "output_type": "stream",
     "text": [
      "SOA_List=[6, 8, 6, 4, 6, 6, 4, 6, 6, 8, 6, 8, 8, 4, 8, 6, 6, 6, 8, 6, 4, 4, 4, 8, 4, 8, 8, 6, 4, 4, 4, 4, 6, 6, 4, 6, 4, 6, 6, 6, 4, 4, 4, 4, 4, 6, 4, 8]\n",
      "number of 4s=19\n",
      "number of 6s=19\n",
      "number of 8s=10\n",
      "total time=270 s\n"
     ]
    },
    {
     "name": "stderr",
     "output_type": "stream",
     "text": [
      "\r",
      " 18%|█▊        | 9/50 [00:04<00:20,  1.97it/s]"
     ]
    },
    {
     "name": "stdout",
     "output_type": "stream",
     "text": [
      "SOA_List=[4, 8, 6, 6, 8, 8, 4, 4, 4, 4, 6, 4, 6, 4, 6, 4, 8, 6, 6, 6, 8, 6, 6, 4, 4, 4, 6, 4, 6, 6, 8, 4, 6, 8, 4, 4, 6, 8, 4, 6, 8, 6, 8, 4, 4, 4, 6, 6]\n",
      "number of 4s=19\n",
      "number of 6s=19\n",
      "number of 8s=10\n",
      "total time=270 s\n"
     ]
    },
    {
     "name": "stderr",
     "output_type": "stream",
     "text": [
      "\r",
      " 20%|██        | 10/50 [00:04<00:19,  2.07it/s]"
     ]
    },
    {
     "name": "stdout",
     "output_type": "stream",
     "text": [
      "SOA_List=[6, 8, 6, 8, 8, 8, 6, 4, 8, 4, 6, 6, 4, 6, 4, 4, 4, 6, 6, 6, 6, 6, 4, 4, 4, 4, 4, 8, 8, 6, 6, 4, 4, 8, 6, 4, 6, 4, 6, 4, 4, 6, 4, 6, 8, 8, 4, 6]\n",
      "number of 4s=19\n",
      "number of 6s=19\n",
      "number of 8s=10\n",
      "total time=270 s\n"
     ]
    },
    {
     "name": "stderr",
     "output_type": "stream",
     "text": [
      "\r",
      " 22%|██▏       | 11/50 [00:05<00:19,  1.96it/s]"
     ]
    },
    {
     "name": "stdout",
     "output_type": "stream",
     "text": [
      "SOA_List=[4, 6, 8, 6, 6, 8, 6, 8, 6, 6, 4, 4, 6, 4, 6, 6, 4, 6, 6, 4, 8, 4, 8, 4, 4, 6, 4, 6, 8, 8, 4, 4, 6, 4, 6, 8, 8, 6, 4, 4, 4, 6, 4, 8, 4, 6, 6, 4]\n",
      "number of 4s=19\n",
      "number of 6s=19\n",
      "number of 8s=10\n",
      "total time=270 s\n"
     ]
    },
    {
     "name": "stderr",
     "output_type": "stream",
     "text": [
      "\r",
      " 24%|██▍       | 12/50 [00:06<00:23,  1.60it/s]"
     ]
    },
    {
     "name": "stdout",
     "output_type": "stream",
     "text": [
      "SOA_List=[8, 6, 4, 6, 8, 4, 4, 6, 6, 6, 6, 6, 4, 6, 6, 8, 4, 8, 4, 8, 6, 6, 6, 8, 4, 4, 8, 6, 4, 4, 4, 6, 6, 4, 4, 6, 4, 6, 4, 4, 4, 4, 8, 8, 4, 8, 6, 6]\n",
      "number of 4s=19\n",
      "number of 6s=19\n",
      "number of 8s=10\n",
      "total time=270 s\n"
     ]
    },
    {
     "name": "stderr",
     "output_type": "stream",
     "text": [
      "\r",
      " 26%|██▌       | 13/50 [00:06<00:21,  1.72it/s]"
     ]
    },
    {
     "name": "stdout",
     "output_type": "stream",
     "text": [
      "SOA_List=[4, 8, 4, 6, 4, 4, 6, 6, 6, 4, 4, 4, 8, 6, 8, 4, 8, 6, 4, 6, 4, 8, 6, 4, 6, 4, 4, 4, 6, 4, 6, 6, 8, 6, 8, 6, 4, 6, 6, 8, 4, 4, 6, 6, 6, 8, 8, 4]\n",
      "number of 4s=19\n",
      "number of 6s=19\n",
      "number of 8s=10\n",
      "total time=270 s\n"
     ]
    },
    {
     "name": "stderr",
     "output_type": "stream",
     "text": [
      "\r",
      " 28%|██▊       | 14/50 [00:07<00:19,  1.82it/s]"
     ]
    },
    {
     "name": "stdout",
     "output_type": "stream",
     "text": [
      "SOA_List=[6, 4, 8, 4, 4, 4, 4, 4, 6, 4, 6, 6, 4, 4, 4, 6, 6, 6, 6, 4, 4, 8, 6, 8, 8, 6, 8, 4, 6, 6, 6, 6, 6, 6, 4, 4, 4, 4, 8, 8, 4, 8, 4, 8, 8, 6, 6, 6]\n",
      "number of 4s=19\n",
      "number of 6s=19\n",
      "number of 8s=10\n",
      "total time=270 s\n"
     ]
    },
    {
     "name": "stderr",
     "output_type": "stream",
     "text": [
      "\r",
      " 30%|███       | 15/50 [00:07<00:18,  1.92it/s]"
     ]
    },
    {
     "name": "stdout",
     "output_type": "stream",
     "text": [
      "SOA_List=[6, 4, 6, 8, 4, 4, 4, 6, 6, 6, 4, 4, 6, 6, 6, 6, 4, 4, 8, 8, 8, 4, 6, 6, 6, 8, 6, 4, 4, 8, 6, 8, 4, 6, 4, 6, 4, 6, 4, 4, 6, 8, 4, 4, 8, 4, 6, 8]\n",
      "number of 4s=19\n",
      "number of 6s=19\n",
      "number of 8s=10\n",
      "total time=270 s\n"
     ]
    },
    {
     "name": "stderr",
     "output_type": "stream",
     "text": [
      "\r",
      " 32%|███▏      | 16/50 [00:08<00:18,  1.89it/s]"
     ]
    },
    {
     "name": "stdout",
     "output_type": "stream",
     "text": [
      "SOA_List=[4, 6, 6, 6, 4, 6, 4, 4, 8, 6, 4, 4, 8, 8, 4, 8, 6, 4, 4, 6, 8, 4, 4, 4, 6, 6, 6, 8, 8, 4, 6, 8, 8, 6, 4, 4, 4, 8, 6, 6, 6, 6, 4, 4, 6, 6, 6, 4]\n",
      "number of 4s=19\n",
      "number of 6s=19\n",
      "number of 8s=10\n",
      "total time=270 s\n"
     ]
    },
    {
     "name": "stderr",
     "output_type": "stream",
     "text": [
      "\r",
      " 34%|███▍      | 17/50 [00:08<00:16,  1.94it/s]"
     ]
    },
    {
     "name": "stdout",
     "output_type": "stream",
     "text": [
      "SOA_List=[6, 4, 4, 4, 4, 6, 6, 6, 6, 4, 4, 8, 4, 8, 6, 6, 4, 8, 4, 8, 6, 4, 6, 4, 6, 6, 6, 8, 6, 6, 8, 4, 6, 8, 6, 4, 4, 4, 8, 4, 4, 8, 6, 4, 4, 6, 6, 8]\n",
      "number of 4s=19\n",
      "number of 6s=19\n",
      "number of 8s=10\n",
      "total time=270 s\n"
     ]
    },
    {
     "name": "stderr",
     "output_type": "stream",
     "text": [
      "\r",
      " 36%|███▌      | 18/50 [00:09<00:15,  2.05it/s]"
     ]
    },
    {
     "name": "stdout",
     "output_type": "stream",
     "text": [
      "SOA_List=[8, 4, 4, 6, 6, 6, 4, 4, 4, 8, 4, 6, 4, 8, 4, 6, 8, 8, 4, 6, 4, 8, 4, 8, 6, 6, 6, 8, 4, 6, 4, 6, 8, 6, 4, 4, 6, 6, 4, 4, 8, 6, 6, 6, 4, 4, 6, 6]\n",
      "number of 4s=19\n",
      "number of 6s=19\n",
      "number of 8s=10\n",
      "total time=270 s\n"
     ]
    },
    {
     "name": "stderr",
     "output_type": "stream",
     "text": [
      "\r",
      " 38%|███▊      | 19/50 [00:09<00:14,  2.14it/s]"
     ]
    },
    {
     "name": "stdout",
     "output_type": "stream",
     "text": [
      "SOA_List=[6, 6, 6, 4, 6, 6, 4, 6, 4, 6, 4, 4, 8, 4, 6, 4, 8, 8, 8, 6, 4, 4, 6, 8, 4, 4, 6, 6, 4, 8, 4, 6, 6, 4, 8, 6, 6, 6, 4, 6, 4, 4, 6, 4, 8, 8, 4, 8]\n",
      "number of 4s=19\n",
      "number of 6s=19\n",
      "number of 8s=10\n",
      "total time=270 s\n"
     ]
    },
    {
     "name": "stderr",
     "output_type": "stream",
     "text": [
      "\r",
      " 40%|████      | 20/50 [00:10<00:13,  2.18it/s]"
     ]
    },
    {
     "name": "stdout",
     "output_type": "stream",
     "text": [
      "SOA_List=[4, 4, 4, 4, 6, 4, 4, 4, 8, 6, 6, 4, 4, 6, 6, 6, 6, 8, 6, 4, 4, 4, 4, 8, 8, 8, 6, 8, 4, 6, 8, 6, 4, 8, 6, 4, 6, 6, 8, 6, 6, 8, 4, 6, 4, 6, 4, 6]\n",
      "number of 4s=19\n",
      "number of 6s=19\n",
      "number of 8s=10\n",
      "total time=270 s\n"
     ]
    },
    {
     "name": "stderr",
     "output_type": "stream",
     "text": [
      "\r",
      " 42%|████▏     | 21/50 [00:10<00:12,  2.26it/s]"
     ]
    },
    {
     "name": "stdout",
     "output_type": "stream",
     "text": [
      "SOA_List=[8, 8, 6, 6, 6, 4, 8, 4, 4, 6, 8, 8, 6, 4, 8, 4, 4, 4, 6, 6, 4, 6, 6, 4, 4, 6, 6, 8, 4, 8, 6, 4, 8, 6, 4, 4, 4, 4, 6, 6, 4, 8, 6, 4, 6, 6, 4, 6]\n",
      "number of 4s=19\n",
      "number of 6s=19\n",
      "number of 8s=10\n",
      "total time=270 s\n"
     ]
    },
    {
     "name": "stderr",
     "output_type": "stream",
     "text": [
      "\r",
      " 44%|████▍     | 22/50 [00:10<00:12,  2.26it/s]"
     ]
    },
    {
     "name": "stdout",
     "output_type": "stream",
     "text": [
      "SOA_List=[8, 6, 6, 4, 6, 6, 6, 6, 8, 6, 6, 6, 8, 8, 8, 4, 6, 4, 4, 8, 4, 6, 6, 4, 4, 6, 4, 6, 4, 4, 4, 4, 4, 4, 6, 8, 6, 4, 4, 4, 8, 8, 8, 4, 4, 6, 6, 6]\n",
      "number of 4s=19\n",
      "number of 6s=19\n",
      "number of 8s=10\n",
      "total time=270 s\n"
     ]
    },
    {
     "name": "stderr",
     "output_type": "stream",
     "text": [
      "\r",
      " 46%|████▌     | 23/50 [00:11<00:11,  2.32it/s]"
     ]
    },
    {
     "name": "stdout",
     "output_type": "stream",
     "text": [
      "SOA_List=[8, 8, 4, 4, 6, 6, 4, 6, 8, 6, 6, 8, 8, 6, 6, 4, 6, 4, 6, 4, 8, 6, 6, 6, 4, 4, 6, 4, 6, 4, 6, 4, 4, 8, 4, 6, 8, 6, 4, 6, 4, 4, 4, 6, 8, 4, 8, 4]\n",
      "number of 4s=19\n",
      "number of 6s=19\n",
      "number of 8s=10\n",
      "total time=270 s\n"
     ]
    },
    {
     "name": "stderr",
     "output_type": "stream",
     "text": [
      "\r",
      " 48%|████▊     | 24/50 [00:11<00:11,  2.35it/s]"
     ]
    },
    {
     "name": "stdout",
     "output_type": "stream",
     "text": [
      "SOA_List=[4, 4, 8, 4, 4, 4, 6, 4, 8, 4, 8, 6, 4, 8, 6, 6, 6, 6, 4, 6, 4, 6, 4, 6, 6, 8, 6, 6, 4, 4, 6, 8, 4, 4, 4, 4, 6, 6, 6, 8, 4, 6, 6, 8, 4, 8, 6, 8]\n",
      "number of 4s=19\n",
      "number of 6s=19\n",
      "number of 8s=10\n",
      "total time=270 s\n"
     ]
    },
    {
     "name": "stderr",
     "output_type": "stream",
     "text": [
      "\r",
      " 50%|█████     | 25/50 [00:12<00:10,  2.39it/s]"
     ]
    },
    {
     "name": "stdout",
     "output_type": "stream",
     "text": [
      "SOA_List=[8, 4, 4, 6, 8, 4, 6, 6, 6, 6, 8, 4, 4, 8, 4, 4, 6, 6, 6, 6, 4, 4, 6, 8, 8, 6, 8, 6, 4, 4, 6, 6, 6, 6, 6, 8, 4, 4, 4, 4, 8, 4, 4, 4, 6, 8, 6, 4]\n",
      "number of 4s=19\n",
      "number of 6s=19\n",
      "number of 8s=10\n",
      "total time=270 s\n"
     ]
    },
    {
     "name": "stderr",
     "output_type": "stream",
     "text": [
      "\r",
      " 52%|█████▏    | 26/50 [00:12<00:11,  2.08it/s]"
     ]
    },
    {
     "name": "stdout",
     "output_type": "stream",
     "text": [
      "SOA_List=[4, 6, 4, 6, 6, 6, 4, 6, 6, 4, 6, 4, 4, 4, 8, 8, 4, 4, 4, 8, 4, 6, 8, 6, 4, 8, 6, 4, 4, 6, 4, 6, 6, 8, 4, 8, 6, 6, 6, 4, 4, 8, 6, 8, 4, 8, 6, 6]\n",
      "number of 4s=19\n",
      "number of 6s=19\n",
      "number of 8s=10\n",
      "total time=270 s\n"
     ]
    },
    {
     "name": "stderr",
     "output_type": "stream",
     "text": [
      "\r",
      " 54%|█████▍    | 27/50 [00:13<00:11,  2.01it/s]"
     ]
    },
    {
     "name": "stdout",
     "output_type": "stream",
     "text": [
      "SOA_List=[4, 4, 4, 4, 6, 4, 4, 8, 4, 4, 6, 6, 4, 6, 6, 4, 6, 6, 4, 4, 6, 4, 8, 6, 6, 6, 6, 4, 6, 4, 6, 6, 8, 8, 4, 6, 4, 6, 8, 4, 8, 8, 8, 6, 8, 4, 8, 6]\n",
      "number of 4s=19\n",
      "number of 6s=19\n",
      "number of 8s=10\n",
      "total time=270 s\n"
     ]
    },
    {
     "name": "stderr",
     "output_type": "stream",
     "text": [
      "\r",
      " 56%|█████▌    | 28/50 [00:13<00:11,  1.90it/s]"
     ]
    },
    {
     "name": "stdout",
     "output_type": "stream",
     "text": [
      "SOA_List=[4, 6, 6, 4, 4, 4, 4, 8, 4, 8, 6, 6, 6, 4, 4, 6, 6, 4, 4, 4, 8, 8, 6, 6, 8, 6, 6, 8, 4, 4, 6, 8, 4, 6, 4, 4, 6, 8, 8, 6, 8, 6, 6, 6, 4, 6, 4, 4]\n",
      "number of 4s=19\n",
      "number of 6s=19\n",
      "number of 8s=10\n",
      "total time=270 s\n"
     ]
    },
    {
     "name": "stderr",
     "output_type": "stream",
     "text": [
      "\r",
      " 58%|█████▊    | 29/50 [00:14<00:11,  1.82it/s]"
     ]
    },
    {
     "name": "stdout",
     "output_type": "stream",
     "text": [
      "SOA_List=[4, 6, 6, 4, 4, 8, 6, 4, 4, 4, 4, 8, 8, 6, 8, 4, 6, 4, 4, 8, 6, 4, 4, 6, 8, 4, 6, 4, 6, 4, 6, 6, 6, 6, 8, 4, 4, 8, 4, 6, 8, 6, 6, 6, 6, 8, 6, 4]\n",
      "number of 4s=19\n",
      "number of 6s=19\n",
      "number of 8s=10\n",
      "total time=270 s\n"
     ]
    },
    {
     "name": "stderr",
     "output_type": "stream",
     "text": [
      "\r",
      " 60%|██████    | 30/50 [00:14<00:10,  1.91it/s]"
     ]
    },
    {
     "name": "stdout",
     "output_type": "stream",
     "text": [
      "SOA_List=[8, 4, 6, 6, 8, 4, 8, 4, 6, 4, 4, 6, 8, 8, 4, 8, 8, 4, 4, 6, 6, 4, 6, 4, 6, 6, 6, 4, 6, 4, 6, 8, 4, 6, 6, 8, 6, 6, 6, 4, 6, 4, 4, 4, 6, 4, 8, 4]\n",
      "number of 4s=19\n",
      "number of 6s=19\n",
      "number of 8s=10\n",
      "total time=270 s\n"
     ]
    },
    {
     "name": "stderr",
     "output_type": "stream",
     "text": [
      "\r",
      " 62%|██████▏   | 31/50 [00:15<00:10,  1.84it/s]"
     ]
    },
    {
     "name": "stdout",
     "output_type": "stream",
     "text": [
      "SOA_List=[6, 4, 8, 6, 4, 8, 4, 4, 6, 8, 8, 8, 4, 8, 6, 4, 8, 4, 8, 4, 6, 6, 6, 6, 4, 6, 6, 4, 4, 8, 4, 4, 6, 8, 6, 4, 6, 4, 6, 6, 6, 6, 4, 4, 6, 4, 6, 4]\n",
      "number of 4s=19\n",
      "number of 6s=19\n",
      "number of 8s=10\n",
      "total time=270 s\n"
     ]
    },
    {
     "name": "stderr",
     "output_type": "stream",
     "text": [
      "\r",
      " 64%|██████▍   | 32/50 [00:16<00:09,  1.88it/s]"
     ]
    },
    {
     "name": "stdout",
     "output_type": "stream",
     "text": [
      "SOA_List=[6, 4, 6, 8, 6, 4, 4, 8, 8, 4, 6, 6, 4, 6, 4, 6, 4, 6, 4, 8, 8, 8, 6, 6, 4, 6, 6, 8, 6, 6, 4, 6, 8, 6, 4, 4, 4, 4, 4, 6, 4, 8, 6, 4, 6, 4, 4, 8]\n",
      "number of 4s=19\n",
      "number of 6s=19\n",
      "number of 8s=10\n",
      "total time=270 s\n"
     ]
    },
    {
     "name": "stderr",
     "output_type": "stream",
     "text": [
      "\r",
      " 66%|██████▌   | 33/50 [00:16<00:08,  1.93it/s]"
     ]
    },
    {
     "name": "stdout",
     "output_type": "stream",
     "text": [
      "SOA_List=[6, 4, 4, 6, 8, 4, 8, 6, 4, 4, 4, 6, 6, 8, 8, 6, 4, 8, 6, 6, 6, 4, 6, 4, 8, 6, 4, 8, 8, 4, 4, 6, 8, 4, 6, 6, 4, 8, 6, 4, 4, 4, 6, 4, 6, 6, 6, 4]\n",
      "number of 4s=19\n",
      "number of 6s=19\n",
      "number of 8s=10\n",
      "total time=270 s\n"
     ]
    },
    {
     "name": "stderr",
     "output_type": "stream",
     "text": [
      "\r",
      " 68%|██████▊   | 34/50 [00:16<00:08,  1.97it/s]"
     ]
    },
    {
     "name": "stdout",
     "output_type": "stream",
     "text": [
      "SOA_List=[6, 6, 4, 4, 4, 6, 8, 4, 4, 4, 8, 8, 4, 6, 6, 4, 6, 4, 4, 6, 4, 4, 4, 6, 4, 8, 4, 8, 8, 6, 6, 4, 6, 6, 6, 8, 6, 6, 4, 8, 8, 4, 8, 4, 6, 6, 6, 6]\n",
      "number of 4s=19\n",
      "number of 6s=19\n",
      "number of 8s=10\n",
      "total time=270 s\n"
     ]
    },
    {
     "name": "stderr",
     "output_type": "stream",
     "text": [
      "\r",
      " 70%|███████   | 35/50 [00:17<00:07,  1.99it/s]"
     ]
    },
    {
     "name": "stdout",
     "output_type": "stream",
     "text": [
      "SOA_List=[6, 4, 4, 4, 4, 6, 6, 6, 8, 4, 4, 4, 8, 4, 6, 4, 6, 4, 6, 4, 6, 6, 8, 6, 4, 4, 6, 4, 8, 6, 8, 8, 4, 8, 8, 6, 8, 8, 6, 4, 6, 6, 4, 6, 4, 4, 6, 6]\n",
      "number of 4s=19\n",
      "number of 6s=19\n",
      "number of 8s=10\n",
      "total time=270 s\n"
     ]
    },
    {
     "name": "stderr",
     "output_type": "stream",
     "text": [
      "\r",
      " 72%|███████▏  | 36/50 [00:18<00:09,  1.51it/s]"
     ]
    },
    {
     "name": "stdout",
     "output_type": "stream",
     "text": [
      "SOA_List=[8, 4, 6, 8, 4, 4, 6, 4, 8, 4, 4, 8, 6, 6, 6, 8, 6, 4, 8, 8, 6, 6, 6, 8, 6, 4, 8, 6, 4, 4, 6, 4, 4, 6, 4, 6, 6, 4, 6, 8, 4, 6, 4, 4, 6, 6, 4, 4]\n",
      "number of 4s=19\n",
      "number of 6s=19\n",
      "number of 8s=10\n",
      "total time=270 s\n"
     ]
    },
    {
     "name": "stderr",
     "output_type": "stream",
     "text": [
      "\r",
      " 74%|███████▍  | 37/50 [00:19<00:08,  1.47it/s]"
     ]
    },
    {
     "name": "stdout",
     "output_type": "stream",
     "text": [
      "SOA_List=[6, 6, 4, 6, 6, 8, 8, 6, 6, 4, 4, 4, 8, 6, 4, 4, 6, 6, 4, 8, 4, 4, 4, 8, 6, 6, 4, 4, 8, 6, 8, 6, 6, 6, 8, 6, 4, 4, 4, 4, 6, 4, 4, 8, 8, 6, 4, 6]\n",
      "number of 4s=19\n",
      "number of 6s=19\n",
      "number of 8s=10\n",
      "total time=270 s\n"
     ]
    },
    {
     "name": "stderr",
     "output_type": "stream",
     "text": [
      "\r",
      " 76%|███████▌  | 38/50 [00:20<00:09,  1.33it/s]"
     ]
    },
    {
     "name": "stdout",
     "output_type": "stream",
     "text": [
      "SOA_List=[8, 6, 4, 8, 8, 4, 4, 6, 8, 4, 4, 4, 6, 8, 4, 6, 4, 4, 6, 6, 4, 6, 4, 4, 4, 4, 6, 6, 6, 6, 8, 8, 6, 4, 6, 6, 4, 6, 8, 8, 8, 6, 4, 6, 4, 6, 6, 4]\n",
      "number of 4s=19\n",
      "number of 6s=19\n",
      "number of 8s=10\n",
      "total time=270 s\n"
     ]
    },
    {
     "name": "stderr",
     "output_type": "stream",
     "text": [
      "\r",
      " 78%|███████▊  | 39/50 [00:20<00:07,  1.39it/s]"
     ]
    },
    {
     "name": "stdout",
     "output_type": "stream",
     "text": [
      "SOA_List=[4, 6, 6, 4, 8, 8, 4, 8, 4, 6, 4, 6, 6, 6, 6, 4, 8, 4, 4, 6, 6, 8, 6, 4, 4, 6, 6, 6, 8, 6, 6, 4, 4, 4, 4, 6, 6, 4, 6, 4, 4, 8, 8, 4, 4, 8, 6, 8]\n",
      "number of 4s=19\n",
      "number of 6s=19\n",
      "number of 8s=10\n",
      "total time=270 s\n"
     ]
    },
    {
     "name": "stderr",
     "output_type": "stream",
     "text": [
      "\r",
      " 80%|████████  | 40/50 [00:21<00:07,  1.39it/s]"
     ]
    },
    {
     "name": "stdout",
     "output_type": "stream",
     "text": [
      "SOA_List=[6, 6, 8, 8, 6, 4, 4, 6, 6, 8, 6, 4, 6, 6, 4, 8, 4, 6, 8, 6, 6, 4, 4, 6, 8, 6, 6, 4, 6, 8, 4, 8, 4, 8, 6, 6, 4, 4, 4, 4, 4, 6, 6, 4, 4, 4, 4, 8]\n",
      "number of 4s=19\n",
      "number of 6s=19\n",
      "number of 8s=10\n",
      "total time=270 s\n"
     ]
    },
    {
     "name": "stderr",
     "output_type": "stream",
     "text": [
      "\r",
      " 82%|████████▏ | 41/50 [00:22<00:05,  1.50it/s]"
     ]
    },
    {
     "name": "stdout",
     "output_type": "stream",
     "text": [
      "SOA_List=[6, 6, 4, 8, 6, 4, 6, 4, 4, 6, 8, 8, 4, 8, 8, 8, 4, 4, 6, 6, 4, 6, 4, 4, 4, 4, 4, 6, 6, 8, 6, 6, 6, 6, 6, 4, 4, 4, 8, 4, 4, 6, 6, 8, 8, 6, 4, 6]\n",
      "number of 4s=19\n",
      "number of 6s=19\n",
      "number of 8s=10\n",
      "total time=270 s\n"
     ]
    },
    {
     "name": "stderr",
     "output_type": "stream",
     "text": [
      "\r",
      " 84%|████████▍ | 42/50 [00:22<00:04,  1.65it/s]"
     ]
    },
    {
     "name": "stdout",
     "output_type": "stream",
     "text": [
      "SOA_List=[4, 4, 6, 6, 4, 4, 6, 4, 8, 6, 4, 8, 6, 6, 4, 4, 8, 6, 6, 6, 6, 6, 8, 4, 8, 6, 8, 4, 8, 4, 4, 8, 6, 4, 4, 4, 4, 8, 4, 4, 6, 6, 6, 8, 4, 6, 6, 6]\n",
      "number of 4s=19\n",
      "number of 6s=19\n",
      "number of 8s=10\n",
      "total time=270 s\n"
     ]
    },
    {
     "name": "stderr",
     "output_type": "stream",
     "text": [
      "\r",
      " 86%|████████▌ | 43/50 [00:23<00:04,  1.63it/s]"
     ]
    },
    {
     "name": "stdout",
     "output_type": "stream",
     "text": [
      "SOA_List=[4, 4, 6, 4, 4, 8, 4, 6, 6, 6, 6, 4, 6, 6, 4, 4, 4, 8, 4, 6, 6, 4, 4, 6, 8, 4, 6, 6, 6, 6, 4, 4, 6, 4, 6, 8, 8, 4, 6, 4, 8, 8, 8, 8, 6, 8, 6, 4]\n",
      "number of 4s=19\n",
      "number of 6s=19\n",
      "number of 8s=10\n",
      "total time=270 s\n"
     ]
    },
    {
     "name": "stderr",
     "output_type": "stream",
     "text": [
      "\r",
      " 88%|████████▊ | 44/50 [00:23<00:03,  1.68it/s]"
     ]
    },
    {
     "name": "stdout",
     "output_type": "stream",
     "text": [
      "SOA_List=[6, 4, 4, 6, 4, 6, 4, 6, 8, 6, 4, 6, 4, 6, 4, 8, 8, 4, 4, 6, 6, 8, 6, 4, 6, 8, 8, 4, 6, 6, 4, 4, 6, 4, 4, 8, 6, 6, 4, 4, 4, 6, 6, 8, 6, 4, 8, 8]\n",
      "number of 4s=19\n",
      "number of 6s=19\n",
      "number of 8s=10\n",
      "total time=270 s\n"
     ]
    },
    {
     "name": "stderr",
     "output_type": "stream",
     "text": [
      "\r",
      " 90%|█████████ | 45/50 [00:24<00:02,  1.69it/s]"
     ]
    },
    {
     "name": "stdout",
     "output_type": "stream",
     "text": [
      "SOA_List=[6, 4, 4, 8, 6, 6, 6, 4, 6, 6, 6, 8, 6, 6, 8, 8, 4, 6, 8, 6, 6, 6, 8, 4, 8, 6, 4, 6, 8, 4, 4, 4, 4, 4, 8, 4, 4, 6, 4, 6, 4, 8, 4, 4, 6, 6, 4, 4]\n",
      "number of 4s=19\n",
      "number of 6s=19\n",
      "number of 8s=10\n",
      "total time=270 s\n"
     ]
    },
    {
     "name": "stderr",
     "output_type": "stream",
     "text": [
      "\r",
      " 92%|█████████▏| 46/50 [00:24<00:02,  1.70it/s]"
     ]
    },
    {
     "name": "stdout",
     "output_type": "stream",
     "text": [
      "SOA_List=[8, 6, 8, 4, 6, 4, 6, 8, 6, 8, 6, 6, 8, 6, 4, 6, 4, 6, 6, 4, 6, 4, 6, 4, 4, 8, 6, 4, 4, 4, 4, 6, 6, 4, 6, 8, 4, 8, 8, 6, 4, 6, 8, 4, 4, 4, 4, 6]\n",
      "number of 4s=19\n",
      "number of 6s=19\n",
      "number of 8s=10\n",
      "total time=270 s\n"
     ]
    },
    {
     "name": "stderr",
     "output_type": "stream",
     "text": [
      "\r",
      " 94%|█████████▍| 47/50 [00:25<00:01,  1.68it/s]"
     ]
    },
    {
     "name": "stdout",
     "output_type": "stream",
     "text": [
      "SOA_List=[8, 6, 4, 4, 4, 4, 6, 6, 6, 8, 6, 4, 6, 4, 6, 6, 4, 8, 4, 8, 4, 4, 6, 6, 4, 8, 4, 4, 4, 4, 6, 6, 8, 8, 6, 6, 6, 4, 6, 4, 8, 4, 8, 6, 6, 8, 6, 4]\n",
      "number of 4s=19\n",
      "number of 6s=19\n",
      "number of 8s=10\n",
      "total time=270 s\n"
     ]
    },
    {
     "name": "stderr",
     "output_type": "stream",
     "text": [
      "\r",
      " 96%|█████████▌| 48/50 [00:26<00:01,  1.70it/s]"
     ]
    },
    {
     "name": "stdout",
     "output_type": "stream",
     "text": [
      "SOA_List=[4, 4, 8, 6, 4, 6, 4, 4, 4, 4, 6, 8, 6, 4, 4, 6, 6, 4, 4, 4, 8, 6, 8, 4, 6, 4, 6, 8, 8, 4, 4, 6, 6, 6, 8, 4, 8, 6, 6, 4, 6, 6, 6, 8, 8, 6, 6, 4]\n",
      "number of 4s=19\n",
      "number of 6s=19\n",
      "number of 8s=10\n",
      "total time=270 s\n"
     ]
    },
    {
     "name": "stderr",
     "output_type": "stream",
     "text": [
      "\r",
      " 98%|█████████▊| 49/50 [00:26<00:00,  1.65it/s]"
     ]
    },
    {
     "name": "stdout",
     "output_type": "stream",
     "text": [
      "SOA_List=[6, 4, 6, 6, 6, 6, 8, 8, 8, 6, 6, 6, 4, 6, 6, 8, 4, 4, 4, 8, 8, 4, 6, 6, 4, 6, 4, 6, 4, 6, 8, 6, 4, 4, 6, 4, 4, 4, 6, 8, 4, 6, 4, 4, 8, 8, 4, 4]\n",
      "number of 4s=19\n",
      "number of 6s=19\n",
      "number of 8s=10\n",
      "total time=270 s\n"
     ]
    },
    {
     "name": "stderr",
     "output_type": "stream",
     "text": [
      "100%|██████████| 50/50 [00:27<00:00,  1.83it/s]\n"
     ]
    }
   ],
   "source": [
    "# recognition trial order\n",
    "# This code generate the trial order of recognition run. This is part of the old code in http://127.0.0.1:9206/notebooks/users/kp578/rtSynth/kp_scratch/expcode/recognition%20trial.ipynb\n",
    "\n",
    "import os\n",
    "os.chdir('/Users/kailong/Desktop/rtEnv/rt-cloud/projects/rtSynth_rt/expScripts/recognition/')\n",
    "\n",
    "import random,string,pickle\n",
    "import pandas as pd\n",
    "import random\n",
    "from tqdm import tqdm\n",
    "import numpy as np\n",
    "import matplotlib.pyplot as plt\n",
    "\n",
    "def save_obj(obj, name):\n",
    "    with open(name + '.pkl', 'wb') as f:\n",
    "        pickle.dump(obj, f, pickle.HIGHEST_PROTOCOL)\n",
    "\n",
    "def load_obj(name):\n",
    "    with open(name + '.pkl', 'rb') as f:\n",
    "        return pickle.load(f)\n",
    "\n",
    "# In total there are 48 trials.\n",
    "# quarter counterbalance, 3 repetition of each image in each quarter (36 trial)\n",
    "# prevent back to back repetition \n",
    "# generate a new order for each subject and each new recognition run.\n",
    "TR=2\n",
    "\n",
    "# generate a random list containing 19 4s , 19 6s and 10 8s\n",
    "def get_SOA_List():\n",
    "    SOA_List=[2*TR]*19+[3*TR]*19+[4*TR]*10\n",
    "    random.shuffle(SOA_List)\n",
    "    print(f\"SOA_List={SOA_List}\")\n",
    "    # plt.figure()\n",
    "    # plt.plot(SOA_List)\n",
    "    print(f\"number of 4s={sum((np.asarray(SOA_List)==4)*1)}\")\n",
    "    print(f\"number of 6s={sum((np.asarray(SOA_List)==6)*1)}\")\n",
    "    print(f\"number of 8s={sum((np.asarray(SOA_List)==8)*1)}\")\n",
    "    print(f\"total time={np.sum(SOA_List)} s\")\n",
    "    return SOA_List\n",
    "\n",
    "for subj in tqdm(range(1,51)):\n",
    "    \n",
    "    order=[]\n",
    "    quarter=0\n",
    "\n",
    "    NumTrial=12 # number Of Trials In A Quater\n",
    "    NumRep=3 # number Of Repetion Of Single Image In A Quater\n",
    "    NumImg=4 # number of unique images\n",
    "    while quarter<4:\n",
    "        back2backRep_morph=True #indicate that the same morph images are repeated back to back\n",
    "        # back2backRep_cat=True #indicate that the images in the same cat are repeated back to back \n",
    "        # Cat is defined as {'cat1':[A,B,C],'cat2':[D,E,F],'cat3':[G,H,I],'cat4':[J,K,L]}\n",
    "        while back2backRep_morph: # or back2backRep_cat: # only accept the order when both are false\n",
    "            _order=np.asarray(random.sample(list(np.arange(NumTrial)),NumTrial))\n",
    "            for i in range(NumImg):\n",
    "                delimiter=np.arange(0,NumTrial+1,NumRep)\n",
    "                _order[np.logical_and(_order>=delimiter[i],\n",
    "                                      _order<delimiter[i+1])]=i\n",
    "            if 0 not in np.diff(_order):\n",
    "                back2backRep_morph = False    \n",
    "            # # prevent same cat back2back repetition\n",
    "            # _cat=np.array(_order)\n",
    "            # for i in range(4):\n",
    "            #     _cat[np.logical_and(_order>=np.arange(0,12+1,3)[i],\n",
    "            #                           _order<np.arange(0,12+1,3)[i+1])]=i\n",
    "            # if 0 not in np.diff(_cat):\n",
    "            #     back2backRep_cat = False    \n",
    "\n",
    "        #check if this particular sequence already exists in generated orders\n",
    "        exist=0\n",
    "        for _ in order:\n",
    "            if np.all(_order==_):\n",
    "                exist=1\n",
    "        if len(order)>0:\n",
    "            if order[-1][-1]==_order[0]: #avoid tail-head repetion between two quaters\n",
    "                exist=1\n",
    "        # if this particular sequence does not already exists in generated orders, store it\n",
    "        if exist==0:\n",
    "            order.append(_order)\n",
    "            quarter=quarter+1\n",
    "    # convert to a single array\n",
    "    _=np.array([])\n",
    "    for a in order:\n",
    "        _=np.concatenate((_, a), axis=0)\n",
    "    _order=_\n",
    "    # convert to letters\n",
    "    order=[]\n",
    "    alpha = string.ascii_uppercase\n",
    "    for i in range(len(_order)):\n",
    "        order.append(alpha[int(_order[i])])\n",
    "\n",
    "    # store as csv for records\n",
    "    class imageProperty():\n",
    "        def __init__(self):\n",
    "            self.viewPointOrder=[]\n",
    "            for i in range(NumImg):\n",
    "                l=np.arange(3, 40, 3)\n",
    "                random.shuffle(l)\n",
    "                self.viewPointOrder.append(list(l))\n",
    "            save_obj(self.viewPointOrder,'./viewPointOrder/recognitionTrial_'+str(subj))\n",
    "        def getPath(self,image):\n",
    "            if image in ['A','B']:\n",
    "                morphDict={'A':1, 'B':100}\n",
    "                axis='bedChair'\n",
    "                button_left='Bed'\n",
    "                button_right='Chair'\n",
    "                # if np.random.binomial(1, 0.5, 1)[0]==1: # randomly switch the button position\n",
    "                #     button_left='Bed'\n",
    "                #     button_right='Chair'\n",
    "                # else:\n",
    "                #     button_left='Chair'\n",
    "                #     button_right='Bed'\n",
    "            elif image in ['C','D']:\n",
    "                morphDict={'C':1, 'D':100}\n",
    "                axis='tableBench'\n",
    "                button_left='Table'\n",
    "                button_right='Bench'\n",
    "                # if np.random.binomial(1, 0.5, 1)[0]==1: # randomly switch the button position\n",
    "                #     button_left='Table'\n",
    "                #     button_right='Bench'\n",
    "                # else:\n",
    "                #     button_left='Bench'\n",
    "                #     button_right='Table'\n",
    "            viewPoint=self.viewPointOrder[alpha.index(image)][0]\n",
    "            path='./carchair_exp/{}_{}_{}.png'.format(axis,\n",
    "                                                       morphDict[image],\n",
    "                                                       viewPoint)\n",
    "            self.viewPointOrder[alpha.index(image)].pop(0)\n",
    "            return path,morphDict[image],axis,button_left,button_right,viewPoint\n",
    "            \n",
    "    orders_df = pd.DataFrame(columns=['time','imnum','dur','weight','imcode','path',\n",
    "                                      'corrAns','axis','button_left','button_right','viewPoint'])\n",
    "    imagePath=imageProperty()\n",
    "\n",
    "    cumTime=6\n",
    "    SOA_List = get_SOA_List()\n",
    "    for currImg in range(len(order)):\n",
    "        path,morph,axis,button_left,button_right,viewPoint=imagePath.getPath(order[currImg])\n",
    "\n",
    "        p=np.random.uniform(0,1,1)\n",
    "        # if p<0.4:\n",
    "        #     SOA=2*TR\n",
    "        # elif p<0.8:\n",
    "        #     SOA=3*TR\n",
    "        # else:\n",
    "        #     SOA=4*TR\n",
    "        SOA = SOA_List[currImg]\n",
    "        orders_df=orders_df.append({'time':cumTime,\n",
    "                                    'imnum':_order[currImg],\n",
    "                                    'dur':1.0,\n",
    "                                    'weight':1,\n",
    "                                    'imcode':order[currImg],\n",
    "                                    'imgPath':path,\n",
    "                                    'corrAns':morph,\n",
    "                                    'axis':axis,\n",
    "                                    'button_left':button_left,\n",
    "                                    'button_right':button_right,\n",
    "                                    'viewPoint':viewPoint},\n",
    "                                   ignore_index=True)\n",
    "        cumTime=cumTime+SOA\n",
    "    orders_df.to_csv('orders/recognitionOrders_{}.csv'.format(subj))  \n"
   ]
  },
  {
   "cell_type": "code",
   "execution_count": 35,
   "metadata": {},
   "outputs": [
    {
     "name": "stdout",
     "output_type": "stream",
     "text": [
      "/Users/kailong/Desktop/rtEnv/rt-cloud/projects/rtSynth_rt/expScripts/recognition\r\n"
     ]
    }
   ],
   "source": [
    "!pwd"
   ]
  }
 ],
 "metadata": {
  "kernelspec": {
   "display_name": "Python 3",
   "language": "python",
   "name": "python3"
  },
  "language_info": {
   "codemirror_mode": {
    "name": "ipython",
    "version": 3
   },
   "file_extension": ".py",
   "mimetype": "text/x-python",
   "name": "python",
   "nbconvert_exporter": "python",
   "pygments_lexer": "ipython3",
   "version": "3.7.10"
  }
 },
 "nbformat": 4,
 "nbformat_minor": 4
}
