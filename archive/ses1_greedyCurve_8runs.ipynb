{
 "cells": [
  {
   "cell_type": "code",
   "execution_count": 2,
   "metadata": {
    "scrolled": true
   },
   "outputs": [
    {
     "name": "stdout",
     "output_type": "stream",
     "text": [
      "conda env=/gpfs/milgram/project/turk-browne/users/kp578/CONDA/rtcloud\n"
     ]
    },
    {
     "name": "stderr",
     "output_type": "stream",
     "text": [
      "/gpfs/milgram/project/turk-browne/users/kp578/CONDA/rtcloud/lib/python3.6/site-packages/ipykernel_launcher.py:76: RuntimeWarning: Mean of empty slice\n",
      "/gpfs/milgram/project/turk-browne/users/kp578/CONDA/rtcloud/lib/python3.6/site-packages/ipykernel_launcher.py:78: RuntimeWarning: Mean of empty slice\n"
     ]
    },
    {
     "data": {
      "image/png": "[encoded data removed]",
      "text/plain": [
       "<Figure size 432x288 with 1 Axes>"
      ]
     },
     "metadata": {
      "needs_background": "light"
     },
     "output_type": "display_data"
    },
    {
     "data": {
      "image/png": "[encoded data removed]",
      "text/plain": [
       "<Figure size 432x288 with 1 Axes>"
      ]
     },
     "metadata": {
      "needs_background": "light"
     },
     "output_type": "display_data"
    }
   ],
   "source": [
    "# find /gpfs/milgram/scratch60/turk-browne/kp578 -name \"tmp__folder_2021-06-22-08-00-09\"\n",
    "# /gpfs/milgram/scratch60/turk-browne/kp578/06282021/tmp__folder_2021-06-22-08-00-09\n",
    "tmp_folder=\"/gpfs/milgram/scratch60/turk-browne/kp578/06282021/tmp__folder_2021-06-22-08-00-09\"\n",
    "toml=\"sub004.ses1.toml\"\n",
    "\n",
    "import os\n",
    "import sys\n",
    "sys.path.append('/gpfs/milgram/project/turk-browne/projects/rt-cloud/')\n",
    "sys.path.append('/gpfs/milgram/project/turk-browne/projects/rt-cloud/projects/rtSynth_rt/')\n",
    "import argparse\n",
    "import numpy as np\n",
    "import nibabel as nib\n",
    "import scipy.io as sio\n",
    "import subprocess\n",
    "from scipy.stats import zscore\n",
    "from nibabel.nicom import dicomreaders\n",
    "import pydicom as dicom  # type: ignore\n",
    "import time\n",
    "from glob import glob\n",
    "import shutil\n",
    "from nilearn.image import new_img_like\n",
    "import joblib\n",
    "import rtCommon.utils as utils\n",
    "from rtCommon.utils import loadConfigFile\n",
    "import pickle5 as pickle\n",
    "def save_obj(obj, name):\n",
    "    with open(name + '.pkl', 'wb') as f:\n",
    "        pickle.dump(obj, f, pickle.HIGHEST_PROTOCOL)\n",
    "\n",
    "def load_obj(name):\n",
    "    with open(name + '.pkl', 'rb') as f:\n",
    "        return pickle.load(f)\n",
    "\n",
    "argParser = argparse.ArgumentParser()\n",
    "argParser.add_argument('--config', '-c', default=toml, type=str, help='experiment file (.json or .toml)')\n",
    "argParser.add_argument('--skipPre', '-s', default=False, action='store_true', help='skip preprocess or not')\n",
    "argParser.add_argument('--skipGreedy', '-g', default=0, type=int, help='skip greedy or not')\n",
    "argParser.add_argument('--forceGreedy', default='_', type=str, help='whether to force Greedy search in current session, can be compare_forceGreedy , forceGreedy or _')\n",
    "argParser.add_argument('--testRun', '-t', default=None, type=int, help='testRun, can be [None,1,2,3,4,5,6,7,8]')\n",
    "argParser.add_argument('--scan_asTemplate', '-a', default=1, type=int, help=\"which scan's middle dicom as Template?\")\n",
    "argParser.add_argument('--preprocessOnly', default=0, type=int, help='whether to only do preprocess and skip everything else')\n",
    "argParser.add_argument('--tmp_folder', default='' , type=str, help='tmp_folder')\n",
    "\n",
    "args = argParser.parse_args(\"\")\n",
    "from cfg_loading import mkdir,cfg_loading\n",
    "cfg = cfg_loading(args.config)\n",
    "\n",
    "# when every mask has run, find the best mask and save as the chosenMask\n",
    "roiloc=\"schaefer2018\"\n",
    "dataSource=\"realtime\"\n",
    "subjects=[cfg.subjectName]\n",
    "N=78\n",
    "GreedyBestAcc=np.zeros((len(subjects),N+1))\n",
    "GreedyBestAcc[GreedyBestAcc==0]=None\n",
    "for ii,subject in enumerate(subjects):\n",
    "    for len_topN_1 in range(N-1,0,-1):\n",
    "        try:\n",
    "            di = load_obj(f\"{tmp_folder}/{subject}_{N}_{roiloc}_{dataSource}_{len_topN_1}\")\n",
    "            GreedyBestAcc[ii,len_topN_1-1] = di['bestAcc']\n",
    "        except:\n",
    "            pass\n",
    "GreedyBestAcc=GreedyBestAcc.T\n",
    "\n",
    "import matplotlib.pyplot as plt\n",
    "plt.imshow(GreedyBestAcc)\n",
    "_=plt.figure()\n",
    "for i in range(GreedyBestAcc.shape[0]):\n",
    "    plt.scatter([i]*GreedyBestAcc.shape[1],GreedyBestAcc[i],c='g',s=2)\n",
    "plt.plot(np.arange(GreedyBestAcc.shape[0]),np.nanmean(GreedyBestAcc,axis=1))\n",
    "\n",
    "performance_mean = np.nanmean(GreedyBestAcc,axis=1)\n",
    "\n",
    "\n"
   ]
  },
  {
   "cell_type": "code",
   "execution_count": 6,
   "metadata": {},
   "outputs": [
    {
     "name": "stdout",
     "output_type": "stream",
     "text": [
      "bestID=23; best Acc = 0.45933067375886527\n",
      "bestROIs=('234.nii.gz', '86.nii.gz', '163.nii.gz', '77.nii.gz', '76.nii.gz', '295.nii.gz', '166.nii.gz', '164.nii.gz', '259.nii.gz', '112.nii.gz', '58.nii.gz', '190.nii.gz', '93.nii.gz', '230.nii.gz', '265.nii.gz', '146.nii.gz', '205.nii.gz', '2.nii.gz', '204.nii.gz', '62.nii.gz', '281.nii.gz', '160.nii.gz', '246.nii.gz', '244.nii.gz')\n"
     ]
    },
    {
     "name": "stderr",
     "output_type": "stream",
     "text": [
      "/gpfs/milgram/project/turk-browne/users/kp578/CONDA/rtcloud/lib/python3.6/site-packages/ipykernel_launcher.py:10: DeprecationWarning: get_data() is deprecated in favor of get_fdata(), which has a more predictable return type. To obtain get_data() behavior going forward, use numpy.asanyarray(img.dataobj).\n",
      "\n",
      "* deprecated from version: 3.0\n",
      "* Will raise <class 'nibabel.deprecator.ExpiredDeprecationError'> as of version: 5.0\n",
      "  # Remove the CWD from sys.path while we load stuff.\n"
     ]
    }
   ],
   "source": [
    "bestID=np.where(performance_mean==max(performance_mean))[0][0]\n",
    "di = load_obj(f\"{tmp_folder}/{subject}_{N}_{roiloc}_{dataSource}_{bestID+1}\")\n",
    "print(f\"bestID={bestID}; best Acc = {di['bestAcc']}\")\n",
    "print(f\"bestROIs={di['bestROIs']}\")\n",
    "def getMask(topN, cfg):\n",
    "    for pn, parc in enumerate(topN):\n",
    "        _mask = nib.load(f\"{cfg.subjects_dir}{cfg.subjectName}/ses1/recognition/mask/GMschaefer_{parc}\")\n",
    "        # schaefer_56.nii.gz\n",
    "        aff = _mask.affine\n",
    "        _mask = _mask.get_data()\n",
    "        _mask = _mask.astype(int)\n",
    "        # say some things about the mask.\n",
    "        mask = _mask if pn == 0 else mask + _mask\n",
    "        mask[mask>0] = 1\n",
    "    return mask\n",
    "mask = getMask(di['bestROIs'],cfg)"
   ]
  },
  {
   "cell_type": "code",
   "execution_count": 7,
   "metadata": {},
   "outputs": [],
   "source": [
    "_mask=np.load(cfg.chosenMask)"
   ]
  },
  {
   "cell_type": "code",
   "execution_count": 12,
   "metadata": {},
   "outputs": [
    {
     "data": {
      "text/plain": [
       "0"
      ]
     },
     "execution_count": 12,
     "metadata": {},
     "output_type": "execute_result"
    }
   ],
   "source": [
    "np.sum((mask!=_mask)*1)"
   ]
  },
  {
   "cell_type": "code",
   "execution_count": null,
   "metadata": {},
   "outputs": [],
   "source": []
  }
 ],
 "metadata": {
  "kernelspec": {
   "display_name": "Python 3",
   "language": "python",
   "name": "python3"
  },
  "language_info": {
   "codemirror_mode": {
    "name": "ipython",
    "version": 3
   },
   "file_extension": ".py",
   "mimetype": "text/x-python",
   "name": "python",
   "nbconvert_exporter": "python",
   "pygments_lexer": "ipython3",
   "version": "3.6.12"
  },
  "toc": {
   "base_numbering": 1,
   "nav_menu": {},
   "number_sections": true,
   "sideBar": true,
   "skip_h1_title": false,
   "title_cell": "Table of Contents",
   "title_sidebar": "Contents",
   "toc_cell": false,
   "toc_position": {},
   "toc_section_display": true,
   "toc_window_display": false
  },
  "varInspector": {
   "cols": {
    "lenName": 16,
    "lenType": 16,
    "lenVar": 40
   },
   "kernels_config": {
    "python": {
     "delete_cmd_postfix": "",
     "delete_cmd_prefix": "del ",
     "library": "var_list.py",
     "varRefreshCmd": "print(var_dic_list())"
    },
    "r": {
     "delete_cmd_postfix": ") ",
     "delete_cmd_prefix": "rm(",
     "library": "var_list.r",
     "varRefreshCmd": "cat(var_dic_list()) "
    }
   },
   "types_to_exclude": [
    "module",
    "function",
    "builtin_function_or_method",
    "instance",
    "_Feature"
   ],
   "window_display": false
  }
 },
 "nbformat": 4,
 "nbformat_minor": 4
}
